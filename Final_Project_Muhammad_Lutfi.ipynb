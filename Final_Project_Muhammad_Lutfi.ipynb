{
 "cells": [
  {
   "cell_type": "markdown",
   "source": [
    "# Predictive Maintenance\n",
    "\n",
    "# Background\n",
    "I will be using the data from UCI about predictive maintenance. The purpose of this project is to apply machine learning algorithm in the context of reliability engineering.\n",
    "\n",
    "## Objective\n",
    "Prediction of whether mechanical part will fail is an important knowledge in the industry. The failure of mechnical component can disrupt and even stop the production flow in a factory, for example. Hence, developing a model that can be used to predict the failure of a mechanical part  can be important so that corrective and preventive action such as maintainance can be performed and planned to avoid production loss.\n",
    "\n",
    "## Problem Statement\n",
    "Q1: how to predict component failure without having to stop  the machine operation and perform destructive test?"
   ],
   "metadata": {
    "collapsed": false,
    "pycharm": {
     "name": "#%% md\n"
    }
   }
  },
  {
   "cell_type": "code",
   "execution_count": 1,
   "outputs": [],
   "source": [
    "import pandas as pd\n",
    "import numpy as np\n",
    "import matplotlib.pyplot as plt\n",
    "import seaborn as sns\n",
    "%matplotlib inline"
   ],
   "metadata": {
    "collapsed": false,
    "pycharm": {
     "name": "#%%\n"
    }
   }
  },
  {
   "cell_type": "code",
   "execution_count": 2,
   "outputs": [
    {
     "data": {
      "text/plain": "        UDI Product ID Type  Air temperature [K]  Process temperature [K]  \\\n0         1     M14860    M                298.1                    308.6   \n1         2     L47181    L                298.2                    308.7   \n2         3     L47182    L                298.1                    308.5   \n3         4     L47183    L                298.2                    308.6   \n4         5     L47184    L                298.2                    308.7   \n...     ...        ...  ...                  ...                      ...   \n9995   9996     M24855    M                298.8                    308.4   \n9996   9997     H39410    H                298.9                    308.4   \n9997   9998     M24857    M                299.0                    308.6   \n9998   9999     H39412    H                299.0                    308.7   \n9999  10000     M24859    M                299.0                    308.7   \n\n      Rotational speed [rpm]  Torque [Nm]  Tool wear [min]  Target  \\\n0                       1551         42.8                0       0   \n1                       1408         46.3                3       0   \n2                       1498         49.4                5       0   \n3                       1433         39.5                7       0   \n4                       1408         40.0                9       0   \n...                      ...          ...              ...     ...   \n9995                    1604         29.5               14       0   \n9996                    1632         31.8               17       0   \n9997                    1645         33.4               22       0   \n9998                    1408         48.5               25       0   \n9999                    1500         40.2               30       0   \n\n     Failure Type  \n0      No Failure  \n1      No Failure  \n2      No Failure  \n3      No Failure  \n4      No Failure  \n...           ...  \n9995   No Failure  \n9996   No Failure  \n9997   No Failure  \n9998   No Failure  \n9999   No Failure  \n\n[10000 rows x 10 columns]",
      "text/html": "<div>\n<style scoped>\n    .dataframe tbody tr th:only-of-type {\n        vertical-align: middle;\n    }\n\n    .dataframe tbody tr th {\n        vertical-align: top;\n    }\n\n    .dataframe thead th {\n        text-align: right;\n    }\n</style>\n<table border=\"1\" class=\"dataframe\">\n  <thead>\n    <tr style=\"text-align: right;\">\n      <th></th>\n      <th>UDI</th>\n      <th>Product ID</th>\n      <th>Type</th>\n      <th>Air temperature [K]</th>\n      <th>Process temperature [K]</th>\n      <th>Rotational speed [rpm]</th>\n      <th>Torque [Nm]</th>\n      <th>Tool wear [min]</th>\n      <th>Target</th>\n      <th>Failure Type</th>\n    </tr>\n  </thead>\n  <tbody>\n    <tr>\n      <th>0</th>\n      <td>1</td>\n      <td>M14860</td>\n      <td>M</td>\n      <td>298.1</td>\n      <td>308.6</td>\n      <td>1551</td>\n      <td>42.8</td>\n      <td>0</td>\n      <td>0</td>\n      <td>No Failure</td>\n    </tr>\n    <tr>\n      <th>1</th>\n      <td>2</td>\n      <td>L47181</td>\n      <td>L</td>\n      <td>298.2</td>\n      <td>308.7</td>\n      <td>1408</td>\n      <td>46.3</td>\n      <td>3</td>\n      <td>0</td>\n      <td>No Failure</td>\n    </tr>\n    <tr>\n      <th>2</th>\n      <td>3</td>\n      <td>L47182</td>\n      <td>L</td>\n      <td>298.1</td>\n      <td>308.5</td>\n      <td>1498</td>\n      <td>49.4</td>\n      <td>5</td>\n      <td>0</td>\n      <td>No Failure</td>\n    </tr>\n    <tr>\n      <th>3</th>\n      <td>4</td>\n      <td>L47183</td>\n      <td>L</td>\n      <td>298.2</td>\n      <td>308.6</td>\n      <td>1433</td>\n      <td>39.5</td>\n      <td>7</td>\n      <td>0</td>\n      <td>No Failure</td>\n    </tr>\n    <tr>\n      <th>4</th>\n      <td>5</td>\n      <td>L47184</td>\n      <td>L</td>\n      <td>298.2</td>\n      <td>308.7</td>\n      <td>1408</td>\n      <td>40.0</td>\n      <td>9</td>\n      <td>0</td>\n      <td>No Failure</td>\n    </tr>\n    <tr>\n      <th>...</th>\n      <td>...</td>\n      <td>...</td>\n      <td>...</td>\n      <td>...</td>\n      <td>...</td>\n      <td>...</td>\n      <td>...</td>\n      <td>...</td>\n      <td>...</td>\n      <td>...</td>\n    </tr>\n    <tr>\n      <th>9995</th>\n      <td>9996</td>\n      <td>M24855</td>\n      <td>M</td>\n      <td>298.8</td>\n      <td>308.4</td>\n      <td>1604</td>\n      <td>29.5</td>\n      <td>14</td>\n      <td>0</td>\n      <td>No Failure</td>\n    </tr>\n    <tr>\n      <th>9996</th>\n      <td>9997</td>\n      <td>H39410</td>\n      <td>H</td>\n      <td>298.9</td>\n      <td>308.4</td>\n      <td>1632</td>\n      <td>31.8</td>\n      <td>17</td>\n      <td>0</td>\n      <td>No Failure</td>\n    </tr>\n    <tr>\n      <th>9997</th>\n      <td>9998</td>\n      <td>M24857</td>\n      <td>M</td>\n      <td>299.0</td>\n      <td>308.6</td>\n      <td>1645</td>\n      <td>33.4</td>\n      <td>22</td>\n      <td>0</td>\n      <td>No Failure</td>\n    </tr>\n    <tr>\n      <th>9998</th>\n      <td>9999</td>\n      <td>H39412</td>\n      <td>H</td>\n      <td>299.0</td>\n      <td>308.7</td>\n      <td>1408</td>\n      <td>48.5</td>\n      <td>25</td>\n      <td>0</td>\n      <td>No Failure</td>\n    </tr>\n    <tr>\n      <th>9999</th>\n      <td>10000</td>\n      <td>M24859</td>\n      <td>M</td>\n      <td>299.0</td>\n      <td>308.7</td>\n      <td>1500</td>\n      <td>40.2</td>\n      <td>30</td>\n      <td>0</td>\n      <td>No Failure</td>\n    </tr>\n  </tbody>\n</table>\n<p>10000 rows × 10 columns</p>\n</div>"
     },
     "execution_count": 2,
     "metadata": {},
     "output_type": "execute_result"
    }
   ],
   "source": [
    "df = pd.read_csv(\"predictive_maintenance.csv\")\n",
    "df"
   ],
   "metadata": {
    "collapsed": false,
    "pycharm": {
     "name": "#%%\n"
    }
   }
  },
  {
   "cell_type": "code",
   "execution_count": 3,
   "outputs": [
    {
     "data": {
      "text/plain": "UDI                          int64\nProduct ID                  object\nType                        object\nAir temperature [K]        float64\nProcess temperature [K]    float64\nRotational speed [rpm]       int64\nTorque [Nm]                float64\nTool wear [min]              int64\nTarget                       int64\nFailure Type                object\ndtype: object"
     },
     "execution_count": 3,
     "metadata": {},
     "output_type": "execute_result"
    }
   ],
   "source": [
    "# Description of data\n",
    "df.dtypes"
   ],
   "metadata": {
    "collapsed": false,
    "pycharm": {
     "name": "#%%\n"
    }
   }
  },
  {
   "cell_type": "code",
   "execution_count": 4,
   "outputs": [
    {
     "data": {
      "text/plain": "(10000, 10)"
     },
     "execution_count": 4,
     "metadata": {},
     "output_type": "execute_result"
    }
   ],
   "source": [
    "df.shape"
   ],
   "metadata": {
    "collapsed": false,
    "pycharm": {
     "name": "#%%\n"
    }
   }
  },
  {
   "cell_type": "code",
   "execution_count": 5,
   "outputs": [
    {
     "name": "stdout",
     "output_type": "stream",
     "text": [
      "<class 'pandas.core.frame.DataFrame'>\n",
      "RangeIndex: 10000 entries, 0 to 9999\n",
      "Data columns (total 10 columns):\n",
      " #   Column                   Non-Null Count  Dtype  \n",
      "---  ------                   --------------  -----  \n",
      " 0   UDI                      10000 non-null  int64  \n",
      " 1   Product ID               10000 non-null  object \n",
      " 2   Type                     10000 non-null  object \n",
      " 3   Air temperature [K]      10000 non-null  float64\n",
      " 4   Process temperature [K]  10000 non-null  float64\n",
      " 5   Rotational speed [rpm]   10000 non-null  int64  \n",
      " 6   Torque [Nm]              10000 non-null  float64\n",
      " 7   Tool wear [min]          10000 non-null  int64  \n",
      " 8   Target                   10000 non-null  int64  \n",
      " 9   Failure Type             10000 non-null  object \n",
      "dtypes: float64(3), int64(4), object(3)\n",
      "memory usage: 781.4+ KB\n"
     ]
    }
   ],
   "source": [
    "df.info()"
   ],
   "metadata": {
    "collapsed": false,
    "pycharm": {
     "name": "#%%\n"
    }
   }
  },
  {
   "cell_type": "code",
   "execution_count": 6,
   "outputs": [
    {
     "data": {
      "text/plain": "Product ID\nM24859        1\nL51058        1\nL51068        1\nL51067        1\nL51066        1\n             ..\nL56582        1\nL56580        1\nL56579        1\nL56576        1\nH29424        1\nLength: 10000, dtype: int64"
     },
     "execution_count": 6,
     "metadata": {},
     "output_type": "execute_result"
    }
   ],
   "source": [
    "df[['Product ID']].value_counts()"
   ],
   "metadata": {
    "collapsed": false,
    "pycharm": {
     "name": "#%%\n"
    }
   }
  },
  {
   "cell_type": "markdown",
   "source": [
    "Since Product ID & UDI is unique, we will remove form datasets"
   ],
   "metadata": {
    "collapsed": false,
    "pycharm": {
     "name": "#%% md\n"
    }
   }
  },
  {
   "cell_type": "code",
   "execution_count": 7,
   "outputs": [],
   "source": [
    "df = df.drop(columns=['UDI','Product ID'])"
   ],
   "metadata": {
    "collapsed": false,
    "pycharm": {
     "name": "#%%\n"
    }
   }
  },
  {
   "cell_type": "code",
   "execution_count": 8,
   "outputs": [
    {
     "data": {
      "text/plain": "Type                       False\nAir temperature [K]        False\nProcess temperature [K]    False\nRotational speed [rpm]     False\nTorque [Nm]                False\nTool wear [min]            False\nTarget                     False\nFailure Type               False\ndtype: bool"
     },
     "execution_count": 8,
     "metadata": {},
     "output_type": "execute_result"
    }
   ],
   "source": [
    "df.isna().any()"
   ],
   "metadata": {
    "collapsed": false,
    "pycharm": {
     "name": "#%%\n"
    }
   }
  },
  {
   "cell_type": "markdown",
   "source": [
    "### Conclusion for Missing data\n",
    "no missing data for this datasets"
   ],
   "metadata": {
    "collapsed": false,
    "pycharm": {
     "name": "#%% md\n"
    }
   }
  },
  {
   "cell_type": "code",
   "execution_count": 9,
   "outputs": [
    {
     "data": {
      "text/plain": "0"
     },
     "execution_count": 9,
     "metadata": {},
     "output_type": "execute_result"
    }
   ],
   "source": [
    "df[['Type','Air temperature [K]','Process temperature [K]','Rotational speed [rpm]'\n",
    "    ,'Torque [Nm]','Tool wear [min]']].duplicated().sum()"
   ],
   "metadata": {
    "collapsed": false,
    "pycharm": {
     "name": "#%%\n"
    }
   }
  },
  {
   "cell_type": "markdown",
   "source": [
    "no duplicated data for this datasets"
   ],
   "metadata": {
    "collapsed": false,
    "pycharm": {
     "name": "#%% md\n"
    }
   }
  },
  {
   "cell_type": "markdown",
   "source": [
    "# Exploratory Data Analysis"
   ],
   "metadata": {
    "collapsed": false,
    "pycharm": {
     "name": "#%% md\n"
    }
   }
  },
  {
   "cell_type": "code",
   "execution_count": 10,
   "outputs": [],
   "source": [
    "Numerical_Features = df[['Air temperature [K]','Process temperature [K]','Rotational speed [rpm]'\n",
    "    ,'Torque [Nm]','Tool wear [min]']]\n",
    "Categorical_Features = df[['Type']]\n",
    "Target = df[['Target','Failure Type']]"
   ],
   "metadata": {
    "collapsed": false,
    "pycharm": {
     "name": "#%%\n"
    }
   }
  },
  {
   "cell_type": "markdown",
   "source": [
    "## Numerical"
   ],
   "metadata": {
    "collapsed": false,
    "pycharm": {
     "name": "#%% md\n"
    }
   }
  },
  {
   "cell_type": "code",
   "execution_count": 11,
   "outputs": [
    {
     "data": {
      "text/plain": "       Air temperature [K]  Process temperature [K]  Rotational speed [rpm]  \\\ncount         10000.000000             10000.000000            10000.000000   \nmean            300.004930               310.005560             1538.776100   \nstd               2.000259                 1.483734              179.284096   \nmin             295.300000               305.700000             1168.000000   \n25%             298.300000               308.800000             1423.000000   \n50%             300.100000               310.100000             1503.000000   \n75%             301.500000               311.100000             1612.000000   \nmax             304.500000               313.800000             2886.000000   \n\n        Torque [Nm]  Tool wear [min]  \ncount  10000.000000     10000.000000  \nmean      39.986910       107.951000  \nstd        9.968934        63.654147  \nmin        3.800000         0.000000  \n25%       33.200000        53.000000  \n50%       40.100000       108.000000  \n75%       46.800000       162.000000  \nmax       76.600000       253.000000  ",
      "text/html": "<div>\n<style scoped>\n    .dataframe tbody tr th:only-of-type {\n        vertical-align: middle;\n    }\n\n    .dataframe tbody tr th {\n        vertical-align: top;\n    }\n\n    .dataframe thead th {\n        text-align: right;\n    }\n</style>\n<table border=\"1\" class=\"dataframe\">\n  <thead>\n    <tr style=\"text-align: right;\">\n      <th></th>\n      <th>Air temperature [K]</th>\n      <th>Process temperature [K]</th>\n      <th>Rotational speed [rpm]</th>\n      <th>Torque [Nm]</th>\n      <th>Tool wear [min]</th>\n    </tr>\n  </thead>\n  <tbody>\n    <tr>\n      <th>count</th>\n      <td>10000.000000</td>\n      <td>10000.000000</td>\n      <td>10000.000000</td>\n      <td>10000.000000</td>\n      <td>10000.000000</td>\n    </tr>\n    <tr>\n      <th>mean</th>\n      <td>300.004930</td>\n      <td>310.005560</td>\n      <td>1538.776100</td>\n      <td>39.986910</td>\n      <td>107.951000</td>\n    </tr>\n    <tr>\n      <th>std</th>\n      <td>2.000259</td>\n      <td>1.483734</td>\n      <td>179.284096</td>\n      <td>9.968934</td>\n      <td>63.654147</td>\n    </tr>\n    <tr>\n      <th>min</th>\n      <td>295.300000</td>\n      <td>305.700000</td>\n      <td>1168.000000</td>\n      <td>3.800000</td>\n      <td>0.000000</td>\n    </tr>\n    <tr>\n      <th>25%</th>\n      <td>298.300000</td>\n      <td>308.800000</td>\n      <td>1423.000000</td>\n      <td>33.200000</td>\n      <td>53.000000</td>\n    </tr>\n    <tr>\n      <th>50%</th>\n      <td>300.100000</td>\n      <td>310.100000</td>\n      <td>1503.000000</td>\n      <td>40.100000</td>\n      <td>108.000000</td>\n    </tr>\n    <tr>\n      <th>75%</th>\n      <td>301.500000</td>\n      <td>311.100000</td>\n      <td>1612.000000</td>\n      <td>46.800000</td>\n      <td>162.000000</td>\n    </tr>\n    <tr>\n      <th>max</th>\n      <td>304.500000</td>\n      <td>313.800000</td>\n      <td>2886.000000</td>\n      <td>76.600000</td>\n      <td>253.000000</td>\n    </tr>\n  </tbody>\n</table>\n</div>"
     },
     "execution_count": 11,
     "metadata": {},
     "output_type": "execute_result"
    }
   ],
   "source": [
    "# distribution of the data\n",
    "Numerical_Features.describe()"
   ],
   "metadata": {
    "collapsed": false,
    "pycharm": {
     "name": "#%%\n"
    }
   }
  },
  {
   "cell_type": "code",
   "execution_count": 12,
   "outputs": [
    {
     "data": {
      "text/plain": "<Figure size 360x360 with 1 Axes>",
      "image/png": "[encoded data removed]"
     },
     "metadata": {
      "needs_background": "light"
     },
     "output_type": "display_data"
    },
    {
     "data": {
      "text/plain": "<Figure size 360x360 with 1 Axes>",
      "image/png": "[encoded data removed]"
     },
     "metadata": {
      "needs_background": "light"
     },
     "output_type": "display_data"
    },
    {
     "data": {
      "text/plain": "<Figure size 360x360 with 1 Axes>",
      "image/png": "[encoded data removed]"
     },
     "metadata": {
      "needs_background": "light"
     },
     "output_type": "display_data"
    },
    {
     "data": {
      "text/plain": "<Figure size 360x360 with 1 Axes>",
      "image/png": "[encoded data removed]"
     },
     "metadata": {
      "needs_background": "light"
     },
     "output_type": "display_data"
    },
    {
     "data": {
      "text/plain": "<Figure size 360x360 with 1 Axes>",
      "image/png": "[encoded data removed]"
     },
     "metadata": {
      "needs_background": "light"
     },
     "output_type": "display_data"
    }
   ],
   "source": [
    "for col in Numerical_Features:\n",
    "    ax = sns.displot(data=df, x = col, kde=True)"
   ],
   "metadata": {
    "collapsed": false,
    "pycharm": {
     "name": "#%%\n"
    }
   }
  },
  {
   "cell_type": "code",
   "execution_count": 13,
   "outputs": [
    {
     "data": {
      "text/plain": "<Figure size 1440x1080 with 5 Axes>",
      "image/png": "[encoded data removed]"
     },
     "metadata": {
      "needs_background": "light"
     },
     "output_type": "display_data"
    }
   ],
   "source": [
    "fig = plt.figure(figsize=(20,15))\n",
    "for i,col in enumerate(Numerical_Features):\n",
    "    plt.subplot(5,1,i+1)\n",
    "    ax = sns.boxplot(data=df, x = col)"
   ],
   "metadata": {
    "collapsed": false,
    "pycharm": {
     "name": "#%%\n"
    }
   }
  },
  {
   "cell_type": "markdown",
   "source": [
    "Since there are outliers in relational speed & torque variables, we will use algorithm that's not sensitive to outliers"
   ],
   "metadata": {
    "collapsed": false,
    "pycharm": {
     "name": "#%% md\n"
    }
   }
  },
  {
   "cell_type": "markdown",
   "source": [
    "## Categorical"
   ],
   "metadata": {
    "collapsed": false,
    "pycharm": {
     "name": "#%% md\n"
    }
   }
  },
  {
   "cell_type": "code",
   "execution_count": 14,
   "outputs": [
    {
     "name": "stdout",
     "output_type": "stream",
     "text": [
      "------------------Feature: Type---------------------\n",
      "\n",
      "L    6000\n",
      "M    2997\n",
      "H    1003\n",
      "Name: Type, dtype: int64 \n",
      "\n"
     ]
    }
   ],
   "source": [
    "for i in Categorical_Features.columns:\n",
    "    print(\"------------------Feature: {}---------------------\\n\".format(i))\n",
    "    print(Categorical_Features[i].value_counts(),'\\n')"
   ],
   "metadata": {
    "collapsed": false,
    "pycharm": {
     "name": "#%%\n"
    }
   }
  },
  {
   "cell_type": "code",
   "execution_count": 15,
   "outputs": [
    {
     "name": "stdout",
     "output_type": "stream",
     "text": [
      "------------------Target variable: Target---------------------\n",
      "\n",
      "0    9661\n",
      "1     339\n",
      "Name: Target, dtype: int64 \n",
      "\n",
      "------------------Target variable: Failure Type---------------------\n",
      "\n",
      "No Failure                  9652\n",
      "Heat Dissipation Failure     112\n",
      "Power Failure                 95\n",
      "Overstrain Failure            78\n",
      "Tool Wear Failure             45\n",
      "Random Failures               18\n",
      "Name: Failure Type, dtype: int64 \n",
      "\n"
     ]
    }
   ],
   "source": [
    "for i in Target.columns:\n",
    "    print(\"------------------Target variable: {}---------------------\\n\".format(i))\n",
    "    print(Target[i].value_counts(),'\\n')"
   ],
   "metadata": {
    "collapsed": false,
    "pycharm": {
     "name": "#%%\n"
    }
   }
  },
  {
   "cell_type": "code",
   "execution_count": 16,
   "outputs": [
    {
     "name": "stdout",
     "output_type": "stream",
     "text": [
      "Value % of Type column\n",
      "L    60.00\n",
      "M    29.97\n",
      "H    10.03\n",
      "Name: Type, dtype: float64 \n",
      "\n"
     ]
    },
    {
     "data": {
      "text/plain": "<Figure size 720x576 with 1 Axes>",
      "image/png": "[encoded data removed]"
     },
     "metadata": {
      "needs_background": "light"
     },
     "output_type": "display_data"
    }
   ],
   "source": [
    "#Percentage for Categorical Variable\n",
    "for col in Categorical_Features:\n",
    "    print(f\"Value % of {col} column\")\n",
    "    print(round(df[col].value_counts()/len(df)*100,2),\"\\n\")\n",
    "\n",
    "#Bar Plot for Categorical Variable\n",
    "plt.figure(figsize=(10,8))\n",
    "\n",
    "for i,col in enumerate(Categorical_Features):\n",
    "    plt.subplot(2,2,i + 1)\n",
    "    ax = sns.countplot(data = df, x = col)"
   ],
   "metadata": {
    "collapsed": false,
    "pycharm": {
     "name": "#%%\n"
    }
   }
  },
  {
   "cell_type": "code",
   "execution_count": 17,
   "outputs": [
    {
     "name": "stdout",
     "output_type": "stream",
     "text": [
      "Value % of Target column\n",
      "0    96.61\n",
      "1     3.39\n",
      "Name: Target, dtype: float64 \n",
      "\n",
      "Value % of Failure Type column\n",
      "No Failure                  96.52\n",
      "Heat Dissipation Failure     1.12\n",
      "Power Failure                0.95\n",
      "Overstrain Failure           0.78\n",
      "Tool Wear Failure            0.45\n",
      "Random Failures              0.18\n",
      "Name: Failure Type, dtype: float64 \n",
      "\n"
     ]
    },
    {
     "data": {
      "text/plain": "<Figure size 720x576 with 2 Axes>",
      "image/png": "[encoded data removed]"
     },
     "metadata": {
      "needs_background": "light"
     },
     "output_type": "display_data"
    }
   ],
   "source": [
    "#Percentage\n",
    "for col in Target:\n",
    "    print(f\"Value % of {col} column\")\n",
    "    print(round(df[col].value_counts()/len(df)*100,2),\"\\n\")\n",
    "\n",
    "#Bar Plot\n",
    "plt.figure(figsize=(10,8))\n",
    "\n",
    "for i,col in enumerate(Target):\n",
    "    plt.subplot(2,2,i + 1)\n",
    "    ax = sns.countplot(data = df, x = col)\n",
    "    plt.xticks(rotation=45)"
   ],
   "metadata": {
    "collapsed": false,
    "pycharm": {
     "name": "#%%\n"
    }
   }
  },
  {
   "cell_type": "markdown",
   "source": [
    "# Failure Pattern"
   ],
   "metadata": {
    "collapsed": false,
    "pycharm": {
     "name": "#%% md\n"
    }
   }
  },
  {
   "cell_type": "code",
   "execution_count": 18,
   "outputs": [
    {
     "data": {
      "text/plain": "                          count\n                         Target\nFailure Type                   \nHeat Dissipation Failure    112\nNo Failure                 9652\nOverstrain Failure           78\nPower Failure                95\nRandom Failures              18\nTool Wear Failure            45",
      "text/html": "<div>\n<style scoped>\n    .dataframe tbody tr th:only-of-type {\n        vertical-align: middle;\n    }\n\n    .dataframe tbody tr th {\n        vertical-align: top;\n    }\n\n    .dataframe thead tr th {\n        text-align: left;\n    }\n\n    .dataframe thead tr:last-of-type th {\n        text-align: right;\n    }\n</style>\n<table border=\"1\" class=\"dataframe\">\n  <thead>\n    <tr>\n      <th></th>\n      <th>count</th>\n    </tr>\n    <tr>\n      <th></th>\n      <th>Target</th>\n    </tr>\n    <tr>\n      <th>Failure Type</th>\n      <th></th>\n    </tr>\n  </thead>\n  <tbody>\n    <tr>\n      <th>Heat Dissipation Failure</th>\n      <td>112</td>\n    </tr>\n    <tr>\n      <th>No Failure</th>\n      <td>9652</td>\n    </tr>\n    <tr>\n      <th>Overstrain Failure</th>\n      <td>78</td>\n    </tr>\n    <tr>\n      <th>Power Failure</th>\n      <td>95</td>\n    </tr>\n    <tr>\n      <th>Random Failures</th>\n      <td>18</td>\n    </tr>\n    <tr>\n      <th>Tool Wear Failure</th>\n      <td>45</td>\n    </tr>\n  </tbody>\n</table>\n</div>"
     },
     "execution_count": 18,
     "metadata": {},
     "output_type": "execute_result"
    }
   ],
   "source": [
    "pd.pivot_table(df, values=df[['Target']],index=['Failure Type'], aggfunc=['count'] )"
   ],
   "metadata": {
    "collapsed": false,
    "pycharm": {
     "name": "#%%\n"
    }
   }
  },
  {
   "cell_type": "code",
   "execution_count": 19,
   "outputs": [
    {
     "data": {
      "text/plain": "<Figure size 432x360 with 2 Axes>",
      "image/png": "[encoded data removed]"
     },
     "metadata": {
      "needs_background": "light"
     },
     "output_type": "display_data"
    }
   ],
   "source": [
    "corr = df.corr()\n",
    "f, ax = plt.subplots(figsize=(6, 5))\n",
    "mask = np.triu(np.ones_like(corr, dtype=bool))[1:, :-1]\n",
    "corr = corr.iloc[1:,:-1].copy()\n",
    "sns.color_palette(\"Spectral\", as_cmap=True)\n",
    "sns.heatmap(corr, annot=True, mask = mask)\n",
    "plt.style.use(\"default\")\n",
    "plt.xticks(rotation=45)\n",
    "plt.show()"
   ],
   "metadata": {
    "collapsed": false,
    "pycharm": {
     "name": "#%%\n"
    }
   }
  },
  {
   "cell_type": "markdown",
   "source": [
    "## Observation from Correlation Investigation\n",
    "\n",
    "- Rotational Speed & Torque is highly negatively correlated\n",
    "- Air temperature & process temperature is highly positively correlated\n",
    "\n",
    "We will consider to not use some redundant features"
   ],
   "metadata": {
    "collapsed": false,
    "pycharm": {
     "name": "#%% md\n"
    }
   }
  },
  {
   "cell_type": "markdown",
   "source": [
    "## Treatment for Categorical Variable & Target Variable"
   ],
   "metadata": {
    "collapsed": false,
    "pycharm": {
     "name": "#%% md\n"
    }
   }
  },
  {
   "cell_type": "code",
   "execution_count": 20,
   "outputs": [
    {
     "data": {
      "text/plain": "      Type_H  Type_L  Type_M\n0          0       0       1\n1          0       1       0\n2          0       1       0\n3          0       1       0\n4          0       1       0\n...      ...     ...     ...\n9995       0       0       1\n9996       1       0       0\n9997       0       0       1\n9998       1       0       0\n9999       0       0       1\n\n[10000 rows x 3 columns]",
      "text/html": "<div>\n<style scoped>\n    .dataframe tbody tr th:only-of-type {\n        vertical-align: middle;\n    }\n\n    .dataframe tbody tr th {\n        vertical-align: top;\n    }\n\n    .dataframe thead th {\n        text-align: right;\n    }\n</style>\n<table border=\"1\" class=\"dataframe\">\n  <thead>\n    <tr style=\"text-align: right;\">\n      <th></th>\n      <th>Type_H</th>\n      <th>Type_L</th>\n      <th>Type_M</th>\n    </tr>\n  </thead>\n  <tbody>\n    <tr>\n      <th>0</th>\n      <td>0</td>\n      <td>0</td>\n      <td>1</td>\n    </tr>\n    <tr>\n      <th>1</th>\n      <td>0</td>\n      <td>1</td>\n      <td>0</td>\n    </tr>\n    <tr>\n      <th>2</th>\n      <td>0</td>\n      <td>1</td>\n      <td>0</td>\n    </tr>\n    <tr>\n      <th>3</th>\n      <td>0</td>\n      <td>1</td>\n      <td>0</td>\n    </tr>\n    <tr>\n      <th>4</th>\n      <td>0</td>\n      <td>1</td>\n      <td>0</td>\n    </tr>\n    <tr>\n      <th>...</th>\n      <td>...</td>\n      <td>...</td>\n      <td>...</td>\n    </tr>\n    <tr>\n      <th>9995</th>\n      <td>0</td>\n      <td>0</td>\n      <td>1</td>\n    </tr>\n    <tr>\n      <th>9996</th>\n      <td>1</td>\n      <td>0</td>\n      <td>0</td>\n    </tr>\n    <tr>\n      <th>9997</th>\n      <td>0</td>\n      <td>0</td>\n      <td>1</td>\n    </tr>\n    <tr>\n      <th>9998</th>\n      <td>1</td>\n      <td>0</td>\n      <td>0</td>\n    </tr>\n    <tr>\n      <th>9999</th>\n      <td>0</td>\n      <td>0</td>\n      <td>1</td>\n    </tr>\n  </tbody>\n</table>\n<p>10000 rows × 3 columns</p>\n</div>"
     },
     "execution_count": 20,
     "metadata": {},
     "output_type": "execute_result"
    }
   ],
   "source": [
    "df_onehot_cat = df[['Type']]\n",
    "df_onehot_cat = pd.get_dummies(data=df_onehot_cat)\n",
    "df_onehot_cat"
   ],
   "metadata": {
    "collapsed": false,
    "pycharm": {
     "name": "#%%\n"
    }
   }
  },
  {
   "cell_type": "code",
   "execution_count": 21,
   "outputs": [],
   "source": [
    "# df_target = pd.DataFrame()\n",
    "# df_target['Failure Type']=df['Failure Type'].map({'Yes':1,'No':0})\n",
    "# df_target"
   ],
   "metadata": {
    "collapsed": false,
    "pycharm": {
     "name": "#%%\n"
    }
   }
  },
  {
   "cell_type": "code",
   "execution_count": 22,
   "outputs": [],
   "source": [
    "X = pd.concat([df_onehot_cat,Numerical_Features],axis=1)\n",
    "y = Target[['Target']]"
   ],
   "metadata": {
    "collapsed": false,
    "pycharm": {
     "name": "#%%\n"
    }
   }
  },
  {
   "cell_type": "code",
   "execution_count": 23,
   "outputs": [
    {
     "data": {
      "text/plain": "   Type_H  Type_L  Type_M  Air temperature [K]  Process temperature [K]  \\\n0       0       0       1                298.1                    308.6   \n1       0       1       0                298.2                    308.7   \n2       0       1       0                298.1                    308.5   \n3       0       1       0                298.2                    308.6   \n4       0       1       0                298.2                    308.7   \n\n   Rotational speed [rpm]  Torque [Nm]  Tool wear [min]  \n0                    1551         42.8                0  \n1                    1408         46.3                3  \n2                    1498         49.4                5  \n3                    1433         39.5                7  \n4                    1408         40.0                9  ",
      "text/html": "<div>\n<style scoped>\n    .dataframe tbody tr th:only-of-type {\n        vertical-align: middle;\n    }\n\n    .dataframe tbody tr th {\n        vertical-align: top;\n    }\n\n    .dataframe thead th {\n        text-align: right;\n    }\n</style>\n<table border=\"1\" class=\"dataframe\">\n  <thead>\n    <tr style=\"text-align: right;\">\n      <th></th>\n      <th>Type_H</th>\n      <th>Type_L</th>\n      <th>Type_M</th>\n      <th>Air temperature [K]</th>\n      <th>Process temperature [K]</th>\n      <th>Rotational speed [rpm]</th>\n      <th>Torque [Nm]</th>\n      <th>Tool wear [min]</th>\n    </tr>\n  </thead>\n  <tbody>\n    <tr>\n      <th>0</th>\n      <td>0</td>\n      <td>0</td>\n      <td>1</td>\n      <td>298.1</td>\n      <td>308.6</td>\n      <td>1551</td>\n      <td>42.8</td>\n      <td>0</td>\n    </tr>\n    <tr>\n      <th>1</th>\n      <td>0</td>\n      <td>1</td>\n      <td>0</td>\n      <td>298.2</td>\n      <td>308.7</td>\n      <td>1408</td>\n      <td>46.3</td>\n      <td>3</td>\n    </tr>\n    <tr>\n      <th>2</th>\n      <td>0</td>\n      <td>1</td>\n      <td>0</td>\n      <td>298.1</td>\n      <td>308.5</td>\n      <td>1498</td>\n      <td>49.4</td>\n      <td>5</td>\n    </tr>\n    <tr>\n      <th>3</th>\n      <td>0</td>\n      <td>1</td>\n      <td>0</td>\n      <td>298.2</td>\n      <td>308.6</td>\n      <td>1433</td>\n      <td>39.5</td>\n      <td>7</td>\n    </tr>\n    <tr>\n      <th>4</th>\n      <td>0</td>\n      <td>1</td>\n      <td>0</td>\n      <td>298.2</td>\n      <td>308.7</td>\n      <td>1408</td>\n      <td>40.0</td>\n      <td>9</td>\n    </tr>\n  </tbody>\n</table>\n</div>"
     },
     "execution_count": 23,
     "metadata": {},
     "output_type": "execute_result"
    }
   ],
   "source": [
    "X.head()"
   ],
   "metadata": {
    "collapsed": false,
    "pycharm": {
     "name": "#%%\n"
    }
   }
  },
  {
   "cell_type": "markdown",
   "source": [
    "# Data Preparation for Modelling\n",
    "### Renaming Columns"
   ],
   "metadata": {
    "collapsed": false,
    "pycharm": {
     "name": "#%% md\n"
    }
   }
  },
  {
   "cell_type": "code",
   "execution_count": 24,
   "outputs": [
    {
     "data": {
      "text/plain": "   Type_H  Type_L  Type_M  Air_temperature  Process_temperature  \\\n0       0       0       1            298.1                308.6   \n1       0       1       0            298.2                308.7   \n2       0       1       0            298.1                308.5   \n3       0       1       0            298.2                308.6   \n4       0       1       0            298.2                308.7   \n\n   Rotational_speed  Torque  Tool_wear  \n0              1551    42.8          0  \n1              1408    46.3          3  \n2              1498    49.4          5  \n3              1433    39.5          7  \n4              1408    40.0          9  ",
      "text/html": "<div>\n<style scoped>\n    .dataframe tbody tr th:only-of-type {\n        vertical-align: middle;\n    }\n\n    .dataframe tbody tr th {\n        vertical-align: top;\n    }\n\n    .dataframe thead th {\n        text-align: right;\n    }\n</style>\n<table border=\"1\" class=\"dataframe\">\n  <thead>\n    <tr style=\"text-align: right;\">\n      <th></th>\n      <th>Type_H</th>\n      <th>Type_L</th>\n      <th>Type_M</th>\n      <th>Air_temperature</th>\n      <th>Process_temperature</th>\n      <th>Rotational_speed</th>\n      <th>Torque</th>\n      <th>Tool_wear</th>\n    </tr>\n  </thead>\n  <tbody>\n    <tr>\n      <th>0</th>\n      <td>0</td>\n      <td>0</td>\n      <td>1</td>\n      <td>298.1</td>\n      <td>308.6</td>\n      <td>1551</td>\n      <td>42.8</td>\n      <td>0</td>\n    </tr>\n    <tr>\n      <th>1</th>\n      <td>0</td>\n      <td>1</td>\n      <td>0</td>\n      <td>298.2</td>\n      <td>308.7</td>\n      <td>1408</td>\n      <td>46.3</td>\n      <td>3</td>\n    </tr>\n    <tr>\n      <th>2</th>\n      <td>0</td>\n      <td>1</td>\n      <td>0</td>\n      <td>298.1</td>\n      <td>308.5</td>\n      <td>1498</td>\n      <td>49.4</td>\n      <td>5</td>\n    </tr>\n    <tr>\n      <th>3</th>\n      <td>0</td>\n      <td>1</td>\n      <td>0</td>\n      <td>298.2</td>\n      <td>308.6</td>\n      <td>1433</td>\n      <td>39.5</td>\n      <td>7</td>\n    </tr>\n    <tr>\n      <th>4</th>\n      <td>0</td>\n      <td>1</td>\n      <td>0</td>\n      <td>298.2</td>\n      <td>308.7</td>\n      <td>1408</td>\n      <td>40.0</td>\n      <td>9</td>\n    </tr>\n  </tbody>\n</table>\n</div>"
     },
     "execution_count": 24,
     "metadata": {},
     "output_type": "execute_result"
    }
   ],
   "source": [
    "X.rename(columns = {'Air temperature [K]': 'Air_temperature', 'Process temperature [K]': 'Process_temperature', 'Rotational speed [rpm]': 'Rotational_speed', 'Torque [Nm]': 'Torque', 'Tool wear [min]': 'Tool_wear'}, inplace = True)\n",
    "X.head()"
   ],
   "metadata": {
    "collapsed": false,
    "pycharm": {
     "name": "#%%\n"
    }
   }
  },
  {
   "cell_type": "markdown",
   "source": [
    "### Split Data for Test, Train, Validation"
   ],
   "metadata": {
    "collapsed": false,
    "pycharm": {
     "name": "#%% md\n"
    }
   }
  },
  {
   "cell_type": "code",
   "execution_count": 25,
   "outputs": [],
   "source": [
    "from sklearn.model_selection import train_test_split\n",
    "X_train,X_test,y_train,y_test=train_test_split(X,y,test_size=0.2,random_state=42)"
   ],
   "metadata": {
    "collapsed": false,
    "pycharm": {
     "name": "#%%\n"
    }
   }
  },
  {
   "cell_type": "code",
   "execution_count": 26,
   "outputs": [
    {
     "data": {
      "text/plain": "((8000, 8), (2000, 8), (8000, 1), (2000, 1))"
     },
     "execution_count": 26,
     "metadata": {},
     "output_type": "execute_result"
    }
   ],
   "source": [
    "X_train.shape, X_test.shape, y_train.shape, y_test.shape"
   ],
   "metadata": {
    "collapsed": false,
    "pycharm": {
     "name": "#%%\n"
    }
   }
  },
  {
   "cell_type": "markdown",
   "source": [
    "### Rescaling"
   ],
   "metadata": {
    "collapsed": false,
    "pycharm": {
     "name": "#%% md\n"
    }
   }
  },
  {
   "cell_type": "code",
   "execution_count": 27,
   "outputs": [],
   "source": [
    "import warnings\n",
    "warnings.filterwarnings('ignore')"
   ],
   "metadata": {
    "collapsed": false,
    "pycharm": {
     "name": "#%%\n"
    }
   }
  },
  {
   "cell_type": "code",
   "execution_count": 28,
   "outputs": [],
   "source": [
    "from sklearn.preprocessing import StandardScaler\n",
    "\n",
    "to_scale = ['Air_temperature', 'Process_temperature', 'Rotational_speed', 'Torque', 'Tool_wear']\n",
    "\n",
    "scaler = StandardScaler()\n",
    "X_train[to_scale] = scaler.fit_transform(X_train[to_scale])\n",
    "X_test[to_scale] = scaler.transform(X_test[to_scale])"
   ],
   "metadata": {
    "collapsed": false,
    "pycharm": {
     "name": "#%%\n"
    }
   }
  },
  {
   "cell_type": "code",
   "execution_count": 29,
   "outputs": [
    {
     "data": {
      "text/plain": "      Type_H  Type_L  Type_M  Air_temperature  Process_temperature  \\\n9254       0       1       0        -0.854066            -0.609589   \n1561       0       1       0        -0.904014            -1.080528   \n1670       0       1       0        -0.904014            -1.484190   \n6087       0       0       1         0.444571             0.534121   \n6669       0       1       0         0.694309             0.332290   \n\n      Rotational_speed    Torque  Tool_wear  \n9254          0.427634 -0.892696   1.375035  \n1561         -0.834945  1.382187   0.457620  \n1670         -0.059677 -0.892696   1.359218  \n6087          0.333495 -0.702288  -1.598655  \n6669          0.178441 -0.612094   1.580663  ",
      "text/html": "<div>\n<style scoped>\n    .dataframe tbody tr th:only-of-type {\n        vertical-align: middle;\n    }\n\n    .dataframe tbody tr th {\n        vertical-align: top;\n    }\n\n    .dataframe thead th {\n        text-align: right;\n    }\n</style>\n<table border=\"1\" class=\"dataframe\">\n  <thead>\n    <tr style=\"text-align: right;\">\n      <th></th>\n      <th>Type_H</th>\n      <th>Type_L</th>\n      <th>Type_M</th>\n      <th>Air_temperature</th>\n      <th>Process_temperature</th>\n      <th>Rotational_speed</th>\n      <th>Torque</th>\n      <th>Tool_wear</th>\n    </tr>\n  </thead>\n  <tbody>\n    <tr>\n      <th>9254</th>\n      <td>0</td>\n      <td>1</td>\n      <td>0</td>\n      <td>-0.854066</td>\n      <td>-0.609589</td>\n      <td>0.427634</td>\n      <td>-0.892696</td>\n      <td>1.375035</td>\n    </tr>\n    <tr>\n      <th>1561</th>\n      <td>0</td>\n      <td>1</td>\n      <td>0</td>\n      <td>-0.904014</td>\n      <td>-1.080528</td>\n      <td>-0.834945</td>\n      <td>1.382187</td>\n      <td>0.457620</td>\n    </tr>\n    <tr>\n      <th>1670</th>\n      <td>0</td>\n      <td>1</td>\n      <td>0</td>\n      <td>-0.904014</td>\n      <td>-1.484190</td>\n      <td>-0.059677</td>\n      <td>-0.892696</td>\n      <td>1.359218</td>\n    </tr>\n    <tr>\n      <th>6087</th>\n      <td>0</td>\n      <td>0</td>\n      <td>1</td>\n      <td>0.444571</td>\n      <td>0.534121</td>\n      <td>0.333495</td>\n      <td>-0.702288</td>\n      <td>-1.598655</td>\n    </tr>\n    <tr>\n      <th>6669</th>\n      <td>0</td>\n      <td>1</td>\n      <td>0</td>\n      <td>0.694309</td>\n      <td>0.332290</td>\n      <td>0.178441</td>\n      <td>-0.612094</td>\n      <td>1.580663</td>\n    </tr>\n  </tbody>\n</table>\n</div>"
     },
     "execution_count": 29,
     "metadata": {},
     "output_type": "execute_result"
    }
   ],
   "source": [
    "X_train.head()"
   ],
   "metadata": {
    "collapsed": false,
    "pycharm": {
     "name": "#%%\n"
    }
   }
  },
  {
   "cell_type": "markdown",
   "source": [
    "### Duplicate Features"
   ],
   "metadata": {
    "collapsed": false,
    "pycharm": {
     "name": "#%% md\n"
    }
   }
  },
  {
   "cell_type": "code",
   "execution_count": 30,
   "outputs": [
    {
     "data": {
      "text/plain": "0"
     },
     "execution_count": 30,
     "metadata": {},
     "output_type": "execute_result"
    }
   ],
   "source": [
    "X_train.duplicated().sum()"
   ],
   "metadata": {
    "collapsed": false,
    "pycharm": {
     "name": "#%%\n"
    }
   }
  },
  {
   "cell_type": "markdown",
   "source": [
    "no duplicated features"
   ],
   "metadata": {
    "collapsed": false,
    "pycharm": {
     "name": "#%% md\n"
    }
   }
  },
  {
   "cell_type": "markdown",
   "source": [
    "### VIF check"
   ],
   "metadata": {
    "collapsed": false,
    "pycharm": {
     "name": "#%% md\n"
    }
   }
  },
  {
   "cell_type": "code",
   "execution_count": 31,
   "outputs": [
    {
     "data": {
      "text/plain": "               feature  vif_score\n1               Type_H        inf\n2               Type_L        inf\n3               Type_M        inf\n4      Air_temperature   4.359302\n5  Process_temperature   4.357464\n6     Rotational_speed   4.311403\n7               Torque   4.310340\n8            Tool_wear   1.000198",
      "text/html": "<div>\n<style scoped>\n    .dataframe tbody tr th:only-of-type {\n        vertical-align: middle;\n    }\n\n    .dataframe tbody tr th {\n        vertical-align: top;\n    }\n\n    .dataframe thead th {\n        text-align: right;\n    }\n</style>\n<table border=\"1\" class=\"dataframe\">\n  <thead>\n    <tr style=\"text-align: right;\">\n      <th></th>\n      <th>feature</th>\n      <th>vif_score</th>\n    </tr>\n  </thead>\n  <tbody>\n    <tr>\n      <th>1</th>\n      <td>Type_H</td>\n      <td>inf</td>\n    </tr>\n    <tr>\n      <th>2</th>\n      <td>Type_L</td>\n      <td>inf</td>\n    </tr>\n    <tr>\n      <th>3</th>\n      <td>Type_M</td>\n      <td>inf</td>\n    </tr>\n    <tr>\n      <th>4</th>\n      <td>Air_temperature</td>\n      <td>4.359302</td>\n    </tr>\n    <tr>\n      <th>5</th>\n      <td>Process_temperature</td>\n      <td>4.357464</td>\n    </tr>\n    <tr>\n      <th>6</th>\n      <td>Rotational_speed</td>\n      <td>4.311403</td>\n    </tr>\n    <tr>\n      <th>7</th>\n      <td>Torque</td>\n      <td>4.310340</td>\n    </tr>\n    <tr>\n      <th>8</th>\n      <td>Tool_wear</td>\n      <td>1.000198</td>\n    </tr>\n  </tbody>\n</table>\n</div>"
     },
     "execution_count": 31,
     "metadata": {},
     "output_type": "execute_result"
    }
   ],
   "source": [
    "# calculate VIF scores\n",
    "from statsmodels.stats.outliers_influence import variance_inflation_factor as vif\n",
    "from statsmodels.tools.tools import add_constant\n",
    "\n",
    "X_vif = add_constant(X_train)\n",
    "\n",
    "vif_df = pd.DataFrame([vif(X_vif.values, i)\n",
    "                       for i in range(X_vif.shape[1])],\n",
    "                      index=X_vif.columns).reset_index()\n",
    "vif_df.columns = ['feature','vif_score']\n",
    "vif_df = vif_df.loc[vif_df.feature!='const']\n",
    "vif_df"
   ],
   "metadata": {
    "collapsed": false,
    "pycharm": {
     "name": "#%%\n"
    }
   }
  },
  {
   "cell_type": "markdown",
   "source": [
    "Generally VIF of more than 10 is considered as high, all of our features are below this threshold"
   ],
   "metadata": {
    "collapsed": false,
    "pycharm": {
     "name": "#%% md\n"
    }
   }
  },
  {
   "cell_type": "markdown",
   "source": [
    "### Hanlding Imbalance with SMOTE"
   ],
   "metadata": {
    "collapsed": false,
    "pycharm": {
     "name": "#%% md\n"
    }
   }
  },
  {
   "cell_type": "code",
   "execution_count": 32,
   "outputs": [],
   "source": [
    "# pip install imblearn"
   ],
   "metadata": {
    "collapsed": false,
    "pycharm": {
     "name": "#%%\n"
    }
   }
  },
  {
   "cell_type": "code",
   "execution_count": 33,
   "outputs": [],
   "source": [
    "from imblearn.over_sampling import SMOTE\n",
    "oversample = SMOTE(random_state = 42)\n",
    "X_train_upsampled, y_train_upsampled = oversample.fit_resample(X_train, y_train)"
   ],
   "metadata": {
    "collapsed": false,
    "pycharm": {
     "name": "#%%\n"
    }
   }
  },
  {
   "cell_type": "code",
   "execution_count": 34,
   "outputs": [
    {
     "data": {
      "text/plain": "((15444, 8), (15444, 1))"
     },
     "execution_count": 34,
     "metadata": {},
     "output_type": "execute_result"
    }
   ],
   "source": [
    "X_train_upsampled.shape, y_train_upsampled.shape"
   ],
   "metadata": {
    "collapsed": false,
    "pycharm": {
     "name": "#%%\n"
    }
   }
  },
  {
   "cell_type": "code",
   "execution_count": 35,
   "outputs": [],
   "source": [
    "def fit_models(model, X_train, X_test, y_train, y_test):\n",
    "\n",
    "    model.fit(X_train, y_train)\n",
    "    pred = model.predict(X_test)\n",
    "\n",
    "    accuracy = metrics.accuracy_score(y_test,pred)\n",
    "    precision = metrics.precision_score(y_test,pred)\n",
    "    recall = metrics.recall_score(y_test,pred)\n",
    "    f1 = metrics.f1_score(y_test,pred)\n",
    "    loss = metrics.log_loss(y_test,pred)\n",
    "\n",
    "    return accuracy, precision, recall, f1, loss"
   ],
   "metadata": {
    "collapsed": false,
    "pycharm": {
     "name": "#%%\n"
    }
   }
  },
  {
   "cell_type": "code",
   "execution_count": 36,
   "outputs": [],
   "source": [
    "# pip install xgboost"
   ],
   "metadata": {
    "collapsed": false,
    "pycharm": {
     "name": "#%%\n"
    }
   }
  },
  {
   "cell_type": "code",
   "execution_count": 39,
   "outputs": [],
   "source": [
    "from scipy import stats\n",
    "from sklearn import metrics\n",
    "from sklearn.model_selection import cross_validate\n",
    "from sklearn.linear_model import LogisticRegression\n",
    "from sklearn.naive_bayes import GaussianNB\n",
    "from sklearn.neighbors import KNeighborsClassifier\n",
    "from sklearn.svm import SVC\n",
    "from sklearn.tree import DecisionTreeClassifier\n",
    "from sklearn.ensemble import BaggingClassifier\n",
    "from sklearn.ensemble import AdaBoostClassifier\n",
    "from sklearn.ensemble import GradientBoostingClassifier\n",
    "from sklearn.ensemble import RandomForestClassifier\n",
    "from xgboost import XGBClassifier\n",
    "\n",
    "lr = LogisticRegression(random_state = 42)\n",
    "gnb = GaussianNB()\n",
    "knn = KNeighborsClassifier()\n",
    "svm = SVC(random_state = 42)\n",
    "dT_gini = DecisionTreeClassifier(random_state = 42)\n",
    "dT_entropy = DecisionTreeClassifier(random_state = 42)\n",
    "bgcl = BaggingClassifier(n_estimators=100,random_state = 42)\n",
    "abcl = AdaBoostClassifier(n_estimators=100, random_state = 42)\n",
    "gbcl = GradientBoostingClassifier(n_estimators = 100,random_state = 42)\n",
    "rfcl = RandomForestClassifier(n_estimators = 100, random_state = 42)\n",
    "xgbcl = XGBClassifier(n_estimators = 100, random_state = 42)\n",
    "\n",
    "result = {}\n",
    "\n",
    "for model,name in zip([lr, gnb, knn, svm, dT_gini, dT_entropy, bgcl, abcl, gbcl, rfcl, xgbcl],\n",
    "                      ['Logistic Regression', 'Gaussian NB', 'KNN', 'SVC', 'Decision Tree(gini)',\n",
    "                       'Decision Tree(entropy)', 'Bagging Classifier', 'Adaptive Boosting',\n",
    "                       'Gradient Boosting', 'Random Forest Classifier', 'XGB Classifier']):\n",
    "    result[name] = fit_models(model,X_train_upsampled,X_test, y_train_upsampled,y_test)"
   ],
   "metadata": {
    "collapsed": false,
    "pycharm": {
     "name": "#%%\n"
    }
   }
  },
  {
   "cell_type": "code",
   "execution_count": 40,
   "outputs": [
    {
     "data": {
      "text/plain": "                          ACCURACY  PRECISION    RECALL  F1-SCORE   LOG LOSS\nModel                                                                       \nLogistic Regression         0.8445   0.140805  0.803279  0.239609   5.370899\nGaussian NB                 0.6950   0.077042  0.819672  0.140845  10.534566\nKNN                         0.9305   0.267857  0.737705  0.393013   2.400494\nSVC                         0.9295   0.284946  0.868852  0.429150   2.435037\nDecision Tree(gini)         0.9525   0.348214  0.639344  0.450867   1.640621\nDecision Tree(entropy)      0.9525   0.348214  0.639344  0.450867   1.640621\nBagging Classifier          0.9660   0.463918  0.737705  0.569620   1.174339\nAdaptive Boosting           0.9260   0.272251  0.852459  0.412698   2.555925\nGradient Boosting           0.9360   0.301775  0.836066  0.443478   2.210529\nRandom Forest Classifier    0.9665   0.466667  0.688525  0.556291   1.157068\nXGB Classifier              0.9770   0.594937  0.770492  0.671429   0.794405",
      "text/html": "<div>\n<style scoped>\n    .dataframe tbody tr th:only-of-type {\n        vertical-align: middle;\n    }\n\n    .dataframe tbody tr th {\n        vertical-align: top;\n    }\n\n    .dataframe thead th {\n        text-align: right;\n    }\n</style>\n<table border=\"1\" class=\"dataframe\">\n  <thead>\n    <tr style=\"text-align: right;\">\n      <th></th>\n      <th>ACCURACY</th>\n      <th>PRECISION</th>\n      <th>RECALL</th>\n      <th>F1-SCORE</th>\n      <th>LOG LOSS</th>\n    </tr>\n    <tr>\n      <th>Model</th>\n      <th></th>\n      <th></th>\n      <th></th>\n      <th></th>\n      <th></th>\n    </tr>\n  </thead>\n  <tbody>\n    <tr>\n      <th>Logistic Regression</th>\n      <td>0.8445</td>\n      <td>0.140805</td>\n      <td>0.803279</td>\n      <td>0.239609</td>\n      <td>5.370899</td>\n    </tr>\n    <tr>\n      <th>Gaussian NB</th>\n      <td>0.6950</td>\n      <td>0.077042</td>\n      <td>0.819672</td>\n      <td>0.140845</td>\n      <td>10.534566</td>\n    </tr>\n    <tr>\n      <th>KNN</th>\n      <td>0.9305</td>\n      <td>0.267857</td>\n      <td>0.737705</td>\n      <td>0.393013</td>\n      <td>2.400494</td>\n    </tr>\n    <tr>\n      <th>SVC</th>\n      <td>0.9295</td>\n      <td>0.284946</td>\n      <td>0.868852</td>\n      <td>0.429150</td>\n      <td>2.435037</td>\n    </tr>\n    <tr>\n      <th>Decision Tree(gini)</th>\n      <td>0.9525</td>\n      <td>0.348214</td>\n      <td>0.639344</td>\n      <td>0.450867</td>\n      <td>1.640621</td>\n    </tr>\n    <tr>\n      <th>Decision Tree(entropy)</th>\n      <td>0.9525</td>\n      <td>0.348214</td>\n      <td>0.639344</td>\n      <td>0.450867</td>\n      <td>1.640621</td>\n    </tr>\n    <tr>\n      <th>Bagging Classifier</th>\n      <td>0.9660</td>\n      <td>0.463918</td>\n      <td>0.737705</td>\n      <td>0.569620</td>\n      <td>1.174339</td>\n    </tr>\n    <tr>\n      <th>Adaptive Boosting</th>\n      <td>0.9260</td>\n      <td>0.272251</td>\n      <td>0.852459</td>\n      <td>0.412698</td>\n      <td>2.555925</td>\n    </tr>\n    <tr>\n      <th>Gradient Boosting</th>\n      <td>0.9360</td>\n      <td>0.301775</td>\n      <td>0.836066</td>\n      <td>0.443478</td>\n      <td>2.210529</td>\n    </tr>\n    <tr>\n      <th>Random Forest Classifier</th>\n      <td>0.9665</td>\n      <td>0.466667</td>\n      <td>0.688525</td>\n      <td>0.556291</td>\n      <td>1.157068</td>\n    </tr>\n    <tr>\n      <th>XGB Classifier</th>\n      <td>0.9770</td>\n      <td>0.594937</td>\n      <td>0.770492</td>\n      <td>0.671429</td>\n      <td>0.794405</td>\n    </tr>\n  </tbody>\n</table>\n</div>"
     },
     "execution_count": 40,
     "metadata": {},
     "output_type": "execute_result"
    }
   ],
   "source": [
    "result1 = pd.DataFrame(np.array(list(result.values())),\n",
    "                       columns= ['ACCURACY', 'PRECISION', 'RECALL', 'F1-SCORE', 'LOG LOSS'],\n",
    "                       index= result.keys())\n",
    "\n",
    "result1.index.name = 'Model'\n",
    "\n",
    "result1"
   ],
   "metadata": {
    "collapsed": false,
    "pycharm": {
     "name": "#%%\n"
    }
   }
  }
 ],
 "metadata": {
  "kernelspec": {
   "display_name": "Python 3",
   "language": "python",
   "name": "python3"
  },
  "language_info": {
   "codemirror_mode": {
    "name": "ipython",
    "version": 2
   },
   "file_extension": ".py",
   "mimetype": "text/x-python",
   "name": "python",
   "nbconvert_exporter": "python",
   "pygments_lexer": "ipython2",
   "version": "2.7.6"
  }
 },
 "nbformat": 4,
 "nbformat_minor": 0
}